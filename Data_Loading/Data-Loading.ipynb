{
 "cells": [
  {
   "cell_type": "markdown",
   "metadata": {},
   "source": [
    "This Notebook contains code to do the following - \n",
    "    1. Copy audio files with specific parameters from the good-sounds database into a temporary folder.\n",
    "    2. Split the above audio files into train and test"
   ]
  },
  {
   "cell_type": "code",
   "execution_count": 1,
   "metadata": {},
   "outputs": [],
   "source": [
    "import sqlite3\n",
    "import os\n",
    "import IPython.display as ipd\n",
    "import shutil\n",
    "import glob\n",
    "import sys\n",
    "import numpy as np\n",
    "import matplotlib.pyplot as pyp\n",
    "import essentia.standard as ess"
   ]
  },
  {
   "cell_type": "code",
   "execution_count": 2,
   "metadata": {},
   "outputs": [
    {
     "name": "stdout",
     "output_type": "stream",
     "text": [
      "Opened database successfully\n"
     ]
    }
   ],
   "source": [
    "# Put the directory to the downloaded dataset here(the directory should point to the sqlite file which contains the table)\n",
    "dir_gs_dataset = '/home/krishna/Desktop/IITB/DDP/Datasets/good-sounds/database.sqlite'\n",
    "\n",
    "tables = sqlite3.connect(dir_gs_dataset)\n",
    "#tables.row_factory = sqlite3.Row\n",
    "print(\"Opened database successfully\");"
   ]
  },
  {
   "cell_type": "code",
   "execution_count": 3,
   "metadata": {},
   "outputs": [],
   "source": [
    "cursor_sounds = tables.cursor()\n",
    "cursor_sounds.execute('SELECT * from Sounds')\n",
    "table_sounds = cursor_sounds.fetchall()\n",
    "main_sid_list = []\n",
    "for i in table_sounds:\n",
    "    main_sid_list.append(i[0])"
   ]
  },
  {
   "cell_type": "markdown",
   "metadata": {},
   "source": [
    "Select the desired properties of the audio from the good-sounds dataset, which are -   \n",
    "1. Instrument - flute, cello, clarinet, trumpet, violin, sax_alto, sax_tenor, sax_baritone, sax_soprano, oboe, piccolo, bass\n",
    "2. Notes - 'C', 'C#', 'D', 'D#', 'E', 'F', 'F#', 'G', 'G#', 'A', 'A#', 'B'\n",
    "3. Octave - 3,4,5,6"
   ]
  },
  {
   "cell_type": "code",
   "execution_count": 4,
   "metadata": {},
   "outputs": [],
   "source": [
    "instrument = ['violin']\n",
    "notes = ['C', 'C#', 'D', 'D#', 'E', 'F', 'F#', 'G', 'G#', 'A', 'A#', 'B']\n",
    "# notes = ['C']\n",
    "octave = [4]\n",
    "fs = 48000\n",
    "# The below line only selects the `good' sounds i.e. the good recordings\n",
    "rmKlass = ('bad-dynamics-tremolo', 'bad-pitch-vibrato', 'bad-timbre-errors', 'bad-richness-bridge', 'bad-richness-sultasto', 'bad-pitch', 'bad-timbre', 'bad-richness')"
   ]
  },
  {
   "cell_type": "code",
   "execution_count": 5,
   "metadata": {},
   "outputs": [],
   "source": [
    "oct_dict = {k:{} for k in octave}\n",
    "for k in octave:\n",
    "    oct_dict[k]['mlist'] = []\n",
    "    oct_dict[k]['notes_list'] = []\n",
    "    oct_dict[k]['uid'] = []\n",
    "    oct_dict[k]['list_rec_params'] = []\n",
    "\n",
    "\n",
    "    sounds_dir = '/home/krishna/Desktop/IITB/DDP/Datasets/good-sounds/'\n",
    "    cou = 0\n",
    "\n",
    "    # Initializing lists to extract further information from the sql tables\n",
    "    lst_file_it = []\n",
    "    lst_sid_it = []\n",
    "\n",
    "    for instru in instrument:\n",
    "        for n in notes:\n",
    "            cursor = tables.cursor()\n",
    "            c1 = tables.cursor()\n",
    "            cursor.execute(\"SELECT t.filename FROM takes t LEFT JOIN sounds s ON t.sound_id = s.id WHERE s.instrument = '{}' AND s.note = '{}' AND s.octave = {} AND s.klass NOT IN {}\".format(instru, n, k, rmKlass))\n",
    "            c1.execute(\"SELECT t.sound_id FROM takes t LEFT JOIN sounds s ON t.sound_id = s.id WHERE s.instrument = '{}' AND s.note = '{}' AND s.octave = {} AND s.klass NOT IN {}\".format(instru, n, k, rmKlass))\n",
    "            files = cursor.fetchall()\n",
    "            lst_file_it.append(files)\n",
    "            fid = c1.fetchall()\n",
    "            lst_sid_it.append(fid)\n",
    "            cou = cou + 1\n",
    "            for it,f in enumerate(files):\n",
    "    #             Remove Scales from the audio\n",
    "    #             To select only scales, negate the below if\n",
    "                if(f[0].find('scales') == -1):\n",
    "    #                 print(it)\n",
    "    #                 print(main_sid_list.index(lst_sid_it[it][0][0]))\n",
    "                    temp = table_sounds[main_sid_list.index(fid[0][0])]\n",
    "                    temp_params = [temp[2],temp[3],temp[4],temp[15],temp[16],temp[17],temp[18],temp[19],temp[-2]]\n",
    "                    oct_dict[k]['list_rec_params'].append(temp_params)\n",
    "                    oct_dict[k]['notes_list'].append(n)\n",
    "                    oct_dict[k]['uid'].append(it + 1)\n",
    "                    oct_dict[k]['mlist'].append(sounds_dir + f[0])"
   ]
  },
  {
   "cell_type": "code",
   "execution_count": 6,
   "metadata": {},
   "outputs": [],
   "source": [
    "# Select octave to process\n",
    "o = 4\n",
    "mlist = oct_dict[o]['mlist']\n",
    "notes_list = oct_dict[o]['notes_list']\n",
    "uid = oct_dict[o]['uid']\n",
    "list_rec_params = oct_dict[o]['list_rec_params']"
   ]
  },
  {
   "cell_type": "code",
   "execution_count": 7,
   "metadata": {},
   "outputs": [
    {
     "name": "stdout",
     "output_type": "stream",
     "text": [
      "Directory './sounds_folder/' created successfully\n"
     ]
    }
   ],
   "source": [
    "# Copy over the files from the directory to this for analysis\n",
    "dir_audio = './sounds_folder/'\n",
    "try: \n",
    "    os.makedirs(dir_audio, exist_ok = True) \n",
    "    print(\"Directory '%s' created successfully\" %dir_audio) \n",
    "except OSError as error: \n",
    "    print(\"Directory '%s' exists\") \n",
    "\n",
    "for i,f in enumerate(mlist):\n",
    "#     print(f.split('/')[-1])\n",
    "    shutil.copy(f,dir_audio)\n",
    "    os.rename(dir_audio + f.split('/')[-1], dir_audio + notes_list[i] + '_' + str(uid[i]) + '.wav')"
   ]
  },
  {
   "cell_type": "code",
   "execution_count": 8,
   "metadata": {},
   "outputs": [
    {
     "name": "stdout",
     "output_type": "stream",
     "text": [
      "Directory './sounds_folder/Train/' created successfully\n",
      "Directory './sounds_folder/Test/' created successfully\n"
     ]
    }
   ],
   "source": [
    "# Split the files randomly into train and test\n",
    "# Train Test Split\n",
    "list_afiles = glob.glob('./sounds_folder/*.wav')\n",
    "train_dir = './sounds_folder/Train/'\n",
    "test_dir = './sounds_folder/Test/'\n",
    "\n",
    "try: \n",
    "    os.makedirs(train_dir, exist_ok = True) \n",
    "    print(\"Directory '%s' created successfully\" %train_dir) \n",
    "except OSError as error: \n",
    "    print(\"Directory '%s' exists\") \n",
    "    \n",
    "try: \n",
    "    os.makedirs(test_dir, exist_ok = True) \n",
    "    print(\"Directory '%s' created successfully\" %test_dir)\n",
    "except OSError as error: \n",
    "    print(\"Directory '%s' exists\") \n",
    "\n",
    "\n",
    "dict_train = {}\n",
    "dict_train['C'] = []\n",
    "dict_train['C#'] = []\n",
    "dict_train['D'] = []\n",
    "dict_train['D#'] = []\n",
    "dict_train['E'] = []\n",
    "dict_train['F'] = []\n",
    "dict_train['F#'] = []\n",
    "dict_train['G'] = []\n",
    "dict_train['G#'] = []\n",
    "dict_train['A'] = []\n",
    "dict_train['A#'] = []\n",
    "dict_train['B'] = []\n",
    "\n",
    "dict_test = {}\n",
    "dict_test['C'] = []\n",
    "dict_test['C#'] = []\n",
    "dict_test['D'] = []\n",
    "dict_test['D#'] = []\n",
    "dict_test['E'] = []\n",
    "dict_test['F'] = []\n",
    "dict_test['F#'] = []\n",
    "dict_test['G'] = []\n",
    "dict_test['G#'] = []\n",
    "dict_test['A'] = []\n",
    "dict_test['A#'] = []\n",
    "dict_test['B'] = []"
   ]
  },
  {
   "cell_type": "code",
   "execution_count": 9,
   "metadata": {},
   "outputs": [],
   "source": [
    "np.random.seed(1)\n",
    "# Fraction of train-test split\n",
    "choice_split = 0.8\n",
    "\n",
    "for f in list_afiles:\n",
    "    k = f.split('/')[-1].split('_')[0]\n",
    "    p = np.random.rand()\n",
    "    if(p  < choice_split):\n",
    "        dict_train[k].append(f)\n",
    "        shutil.move(f,train_dir)\n",
    "    else:\n",
    "        dict_test[k].append(f)\n",
    "        shutil.move(f,test_dir)"
   ]
  }
 ],
 "metadata": {
  "kernelspec": {
   "display_name": "Python 3",
   "language": "python",
   "name": "python3"
  },
  "language_info": {
   "codemirror_mode": {
    "name": "ipython",
    "version": 3
   },
   "file_extension": ".py",
   "mimetype": "text/x-python",
   "name": "python",
   "nbconvert_exporter": "python",
   "pygments_lexer": "ipython3",
   "version": "3.7.3"
  }
 },
 "nbformat": 4,
 "nbformat_minor": 2
}
